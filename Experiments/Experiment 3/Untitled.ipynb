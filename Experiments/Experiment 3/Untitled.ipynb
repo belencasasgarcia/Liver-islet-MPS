{
 "cells": [
  {
   "cell_type": "markdown",
   "id": "de7f38e1",
   "metadata": {},
   "source": [
    "### Plot glucagon data in experiment 3\n"
   ]
  },
  {
   "cell_type": "code",
   "execution_count": null,
   "id": "46e4ff40",
   "metadata": {},
   "outputs": [],
   "source": [
    "import os\n",
    "import pandas as pd\n",
    "import matplotlib.pyplot as plt\n",
    "import numpy as np\n",
    "import seaborn as sns\n",
    "\n",
    "\n",
    "from paper_behavior_functions import (query_sessions_around_criterion,\n",
    "                                      seaborn_style, institution_map,\n",
    "                                      group_colors, figpath, EXAMPLE_MOUSE,\n",
    "                                      FIGURE_WIDTH, FIGURE_HEIGHT,\n",
    "                                      dj2pandas, plot_psychometric)\n",
    "from pylab import cm\n",
    "\n",
    "# Load some things from paper_behavior_functions\n",
    "figpath = figpath()\n",
    "seaborn_style()\n",
    "pal = group_colors()\n",
    "\n",
    "# Create an array with the colors we want to use\n",
    "colors = [[0.92,0.68,0.0353],[0,0.5,0]] # Yellow,green\n",
    "colors1 = [[0.8,0,0.2], [0.92,0.68,0.0353]] # Red,\n",
    "\n",
    "\n",
    "# Set custom color palette\n",
    "customPalette = sns.set_palette(sns.color_palette(colors))\n",
    "customPalette1 = sns.set_palette(sns.color_palette(colors1))\n",
    "\n",
    "\n",
    "dataChip14 = pd.read_csv (r'ExperimentalDataChip14.csv')   #read the csv file (put 'r' before the path string to address any special characters in the path, such as '\\'). Don't forget to put the file name at the end of the path + \".csv\"\n",
    "simulationsChip14Hyper = pd.read_csv (r'SimulationsChip14Hyper.csv') \n",
    "simulationsChip14Normo = pd.read_csv (r'SimulationsChip14Normo.csv') \n",
    "predictionChip14DoseB = pd.read_csv (r'PredictionChip14doseB.csv')   #read the csv file (put 'r' before the path string to address any special characters in the path, such as '\\'). Don't forget to put the file name at the end of the path + \".csv\"\n",
    "predictionsChip14HyperDoseB = pd.read_csv (r'PredictionsChip14HyperDoseB.csv')   #read the csv file (put 'r' before the path string to address any special characters in the path, such as '\\'). Don't forget to put the file name at the end of the path + \".csv\"\n",
    "predictionsChip14NormoDoseB = pd.read_csv (r'PredictionsChip14NormoDoseB.csv')   #read the csv file (put 'r' before the path string to address any special characters in the\n",
    "predictionsChip14DifferenceDoseB = pd.read_csv (r'PredictionsChip14DifferenceDoseB.csv')   #read the csv file (put 'r' before the path string to address any special characters in the\n",
    "# print(predictionChip14DoseB)\n",
    "\n",
    "dataChip2 = pd.read_csv (r'ExperimentalDataExperiment2.csv')\n",
    "trainingExp2 = pd.read_csv (r'TrainingExp2.csv')\n",
    "dataChip3 = pd.read_csv (r'ExperimentalDataHyperNormo.csv')\n",
    "simulationChip3hyper = pd.read_csv (r'SimulationHyper.csv')\n",
    "\n",
    "#print(dataChip2)\n",
    "print(dataChip3.head())"
   ]
  }
 ],
 "metadata": {
  "kernelspec": {
   "display_name": "Python 3",
   "language": "python",
   "name": "python3"
  },
  "language_info": {
   "codemirror_mode": {
    "name": "ipython",
    "version": 3
   },
   "file_extension": ".py",
   "mimetype": "text/x-python",
   "name": "python",
   "nbconvert_exporter": "python",
   "pygments_lexer": "ipython3",
   "version": "3.8.8"
  }
 },
 "nbformat": 4,
 "nbformat_minor": 5
}
